{
 "cells": [
  {
   "cell_type": "code",
   "execution_count": 1,
   "metadata": {},
   "outputs": [],
   "source": [
    "# simple linear model https://scikit-learn.org/stable/modules/generated/sklearn.linear_model.LogisticRegression.html\n",
    "from   sklearn.linear_model    import LogisticRegression\n",
    "\n",
    "# visualisation\n",
    "from   matplotlib              import pyplot as plt\n",
    "\n",
    "# train test split helper function https://scikit-learn.org/stable/modules/generated/sklearn.model_selection.train_test_split.html\n",
    "from   sklearn.model_selection import train_test_split        \n",
    "\n",
    "# data reading package https://pandas.pydata.org/docs/reference/api/pandas.read_csv.html\n",
    "import pandas as pd\n",
    "\n",
    "import warnings\n",
    "\n",
    "warnings.filterwarnings('ignore')"
   ]
  },
  {
   "attachments": {},
   "cell_type": "markdown",
   "metadata": {},
   "source": [
    "## Data Reading"
   ]
  },
  {
   "cell_type": "code",
   "execution_count": 2,
   "metadata": {},
   "outputs": [
    {
     "data": {
      "text/html": [
       "<div>\n",
       "<style scoped>\n",
       "    .dataframe tbody tr th:only-of-type {\n",
       "        vertical-align: middle;\n",
       "    }\n",
       "\n",
       "    .dataframe tbody tr th {\n",
       "        vertical-align: top;\n",
       "    }\n",
       "\n",
       "    .dataframe thead th {\n",
       "        text-align: right;\n",
       "    }\n",
       "</style>\n",
       "<table border=\"1\" class=\"dataframe\">\n",
       "  <thead>\n",
       "    <tr style=\"text-align: right;\">\n",
       "      <th>pattern_id</th>\n",
       "      <th>2490382</th>\n",
       "      <th>2488984</th>\n",
       "      <th>2488605</th>\n",
       "      <th>4138199</th>\n",
       "      <th>2488778</th>\n",
       "      <th>2488777</th>\n",
       "      <th>1709327</th>\n",
       "      <th>2182947</th>\n",
       "      <th>4367239</th>\n",
       "      <th>2123900</th>\n",
       "      <th>...</th>\n",
       "      <th>22736</th>\n",
       "      <th>747965</th>\n",
       "      <th>671053</th>\n",
       "      <th>671169</th>\n",
       "      <th>402325</th>\n",
       "      <th>402387</th>\n",
       "      <th>718395</th>\n",
       "      <th>4564122</th>\n",
       "      <th>4564126</th>\n",
       "      <th>target</th>\n",
       "    </tr>\n",
       "  </thead>\n",
       "  <tbody>\n",
       "    <tr>\n",
       "      <th>ERR042811</th>\n",
       "      <td>0</td>\n",
       "      <td>0</td>\n",
       "      <td>0</td>\n",
       "      <td>0</td>\n",
       "      <td>0</td>\n",
       "      <td>0</td>\n",
       "      <td>0</td>\n",
       "      <td>0</td>\n",
       "      <td>0</td>\n",
       "      <td>0</td>\n",
       "      <td>...</td>\n",
       "      <td>1</td>\n",
       "      <td>1</td>\n",
       "      <td>1</td>\n",
       "      <td>1</td>\n",
       "      <td>1</td>\n",
       "      <td>1</td>\n",
       "      <td>1</td>\n",
       "      <td>1</td>\n",
       "      <td>1</td>\n",
       "      <td>0</td>\n",
       "    </tr>\n",
       "    <tr>\n",
       "      <th>ERR042822</th>\n",
       "      <td>0</td>\n",
       "      <td>0</td>\n",
       "      <td>0</td>\n",
       "      <td>0</td>\n",
       "      <td>0</td>\n",
       "      <td>0</td>\n",
       "      <td>0</td>\n",
       "      <td>0</td>\n",
       "      <td>0</td>\n",
       "      <td>0</td>\n",
       "      <td>...</td>\n",
       "      <td>1</td>\n",
       "      <td>1</td>\n",
       "      <td>1</td>\n",
       "      <td>1</td>\n",
       "      <td>1</td>\n",
       "      <td>1</td>\n",
       "      <td>1</td>\n",
       "      <td>1</td>\n",
       "      <td>1</td>\n",
       "      <td>0</td>\n",
       "    </tr>\n",
       "    <tr>\n",
       "      <th>ERR042829</th>\n",
       "      <td>0</td>\n",
       "      <td>0</td>\n",
       "      <td>0</td>\n",
       "      <td>0</td>\n",
       "      <td>0</td>\n",
       "      <td>0</td>\n",
       "      <td>0</td>\n",
       "      <td>0</td>\n",
       "      <td>0</td>\n",
       "      <td>0</td>\n",
       "      <td>...</td>\n",
       "      <td>1</td>\n",
       "      <td>1</td>\n",
       "      <td>1</td>\n",
       "      <td>1</td>\n",
       "      <td>1</td>\n",
       "      <td>1</td>\n",
       "      <td>1</td>\n",
       "      <td>1</td>\n",
       "      <td>1</td>\n",
       "      <td>0</td>\n",
       "    </tr>\n",
       "    <tr>\n",
       "      <th>ERR042836</th>\n",
       "      <td>0</td>\n",
       "      <td>0</td>\n",
       "      <td>0</td>\n",
       "      <td>0</td>\n",
       "      <td>0</td>\n",
       "      <td>0</td>\n",
       "      <td>0</td>\n",
       "      <td>0</td>\n",
       "      <td>0</td>\n",
       "      <td>0</td>\n",
       "      <td>...</td>\n",
       "      <td>1</td>\n",
       "      <td>1</td>\n",
       "      <td>1</td>\n",
       "      <td>1</td>\n",
       "      <td>1</td>\n",
       "      <td>1</td>\n",
       "      <td>1</td>\n",
       "      <td>1</td>\n",
       "      <td>1</td>\n",
       "      <td>0</td>\n",
       "    </tr>\n",
       "    <tr>\n",
       "      <th>ERR042837</th>\n",
       "      <td>0</td>\n",
       "      <td>0</td>\n",
       "      <td>0</td>\n",
       "      <td>0</td>\n",
       "      <td>0</td>\n",
       "      <td>0</td>\n",
       "      <td>0</td>\n",
       "      <td>0</td>\n",
       "      <td>0</td>\n",
       "      <td>0</td>\n",
       "      <td>...</td>\n",
       "      <td>1</td>\n",
       "      <td>1</td>\n",
       "      <td>1</td>\n",
       "      <td>1</td>\n",
       "      <td>1</td>\n",
       "      <td>1</td>\n",
       "      <td>1</td>\n",
       "      <td>1</td>\n",
       "      <td>1</td>\n",
       "      <td>0</td>\n",
       "    </tr>\n",
       "  </tbody>\n",
       "</table>\n",
       "<p>5 rows × 162611 columns</p>\n",
       "</div>"
      ],
      "text/plain": [
       "pattern_id  2490382  2488984  2488605  4138199  2488778  2488777  1709327  \\\n",
       "ERR042811         0        0        0        0        0        0        0   \n",
       "ERR042822         0        0        0        0        0        0        0   \n",
       "ERR042829         0        0        0        0        0        0        0   \n",
       "ERR042836         0        0        0        0        0        0        0   \n",
       "ERR042837         0        0        0        0        0        0        0   \n",
       "\n",
       "pattern_id  2182947  4367239  2123900  ...  22736  747965  671053  671169  \\\n",
       "ERR042811         0        0        0  ...      1       1       1       1   \n",
       "ERR042822         0        0        0  ...      1       1       1       1   \n",
       "ERR042829         0        0        0  ...      1       1       1       1   \n",
       "ERR042836         0        0        0  ...      1       1       1       1   \n",
       "ERR042837         0        0        0  ...      1       1       1       1   \n",
       "\n",
       "pattern_id  402325  402387  718395  4564122  4564126  target  \n",
       "ERR042811        1       1       1        1        1       0  \n",
       "ERR042822        1       1       1        1        1       0  \n",
       "ERR042829        1       1       1        1        1       0  \n",
       "ERR042836        1       1       1        1        1       0  \n",
       "ERR042837        1       1       1        1        1       0  \n",
       "\n",
       "[5 rows x 162611 columns]"
      ]
     },
     "execution_count": 2,
     "metadata": {},
     "output_type": "execute_result"
    }
   ],
   "source": [
    "# transpose your data such that strains are the rows and unitig as the columns (repeated first row so ignore it with skiprows = 1)\n",
    "df             = pd.read_csv('data/Sflex_countsMAF0.05_dedup2381_uniqpatout.txt.gz', sep = '\\t', skiprows = 1).set_index('pattern_id').T\n",
    "\n",
    "# append aligned target\n",
    "df['target']   = pd.read_csv('data/Sflex_fullmar_1000B_y1_2381dedup_pheno.txt', sep = '\\t').set_index('sample')\n",
    "\n",
    "# preview head of the data\n",
    "df.head()"
   ]
  },
  {
   "attachments": {},
   "cell_type": "markdown",
   "metadata": {},
   "source": [
    "## Defining the Train and Test Datasets"
   ]
  },
  {
   "cell_type": "code",
   "execution_count": 3,
   "metadata": {},
   "outputs": [],
   "source": [
    "# define input and target output\n",
    "X              = df.values[:,:-1]\n",
    "y              = df.values[:,-1]\n",
    "\n",
    "# split the data randomly (set random_state to control randomness for reproducible results)\n",
    "X_train, X_test, y_train, y_test = train_test_split(X, y, random_state = 0, train_size = 0.75)"
   ]
  },
  {
   "attachments": {},
   "cell_type": "markdown",
   "metadata": {},
   "source": [
    "## Logistic Regression"
   ]
  },
  {
   "cell_type": "code",
   "execution_count": 4,
   "metadata": {},
   "outputs": [
    {
     "data": {
      "text/plain": [
       "(1.0, 0.9748322147651006)"
      ]
     },
     "execution_count": 4,
     "metadata": {},
     "output_type": "execute_result"
    }
   ],
   "source": [
    "# train model (set complexity parameter C to reduce over fitting)\n",
    "model          = LogisticRegression(random_state = 0).fit(X_train, y_train)\n",
    "\n",
    "# feature importance for a Logistic Regression model is based on the weight coefficients\n",
    "weights        = model.coef_.flatten()\n",
    "\n",
    "# train and test accuracy\n",
    "model.score(X_train, y_train), model.score(X_test, y_test)"
   ]
  },
  {
   "attachments": {},
   "cell_type": "markdown",
   "metadata": {},
   "source": [
    "#### Distribution of Coefficients"
   ]
  },
  {
   "cell_type": "code",
   "execution_count": 5,
   "metadata": {},
   "outputs": [
    {
     "data": {
      "image/png": "[encoded data removed]",
      "text/plain": [
       "<Figure size 432x288 with 1 Axes>"
      ]
     },
     "metadata": {
      "needs_background": "light"
     },
     "output_type": "display_data"
    }
   ],
   "source": [
    "plt.hist(weights, bins = 100)\n",
    "plt.yscale('log')\n",
    "plt.show()"
   ]
  },
  {
   "attachments": {},
   "cell_type": "markdown",
   "metadata": {},
   "source": [
    "We can see that a lot of unitigs are non-informative with a few that stand out at either end of the histogram.\n",
    "\n",
    "### unitig importance"
   ]
  },
  {
   "cell_type": "code",
   "execution_count": 6,
   "metadata": {},
   "outputs": [
    {
     "data": {
      "text/plain": [
       "Index([4684951, 4767019, 4764916, 4684953,  897233,  106119,  106137, 4691445,\n",
       "        241671,  143894],\n",
       "      dtype='object', name='pattern_id')"
      ]
     },
     "metadata": {},
     "output_type": "display_data"
    },
    {
     "data": {
      "text/plain": [
       "Index([1015030, 1015049, 1015038, 1015032, 1015050, 1026168, 1013434,  960839,\n",
       "       4674623, 1015916],\n",
       "      dtype='object', name='pattern_id')"
      ]
     },
     "metadata": {},
     "output_type": "display_data"
    }
   ],
   "source": [
    "# top 10 features indicating target = 0\n",
    "display(df.columns[weights.argsort()[:10]])\n",
    "\n",
    "# top 10 features indicating target = 1\n",
    "display(df.columns[weights.argsort()[-10:]])"
   ]
  }
 ],
 "metadata": {
  "kernelspec": {
   "display_name": "Python 3",
   "language": "python",
   "name": "python3"
  },
  "language_info": {
   "codemirror_mode": {
    "name": "ipython",
    "version": 3
   },
   "file_extension": ".py",
   "mimetype": "text/x-python",
   "name": "python",
   "nbconvert_exporter": "python",
   "pygments_lexer": "ipython3",
   "version": "3.10.6"
  },
  "orig_nbformat": 4
 },
 "nbformat": 4,
 "nbformat_minor": 2
}
