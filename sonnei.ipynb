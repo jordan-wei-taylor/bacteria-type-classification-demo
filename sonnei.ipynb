{
 "cells": [
  {
   "cell_type": "code",
   "execution_count": 1,
   "metadata": {},
   "outputs": [],
   "source": [
    "# simple linear model https://scikit-learn.org/stable/modules/generated/sklearn.linear_model.LogisticRegression.html\n",
    "from   sklearn.linear_model    import LogisticRegression\n",
    "\n",
    "# visualisation\n",
    "from   matplotlib              import pyplot as plt\n",
    "\n",
    "# train test split helper function https://scikit-learn.org/stable/modules/generated/sklearn.model_selection.train_test_split.html\n",
    "from   sklearn.model_selection import train_test_split        \n",
    "\n",
    "# data reading package https://pandas.pydata.org/docs/reference/api/pandas.read_csv.html\n",
    "import pandas as pd\n",
    "\n",
    "import warnings\n",
    "\n",
    "warnings.filterwarnings('ignore')"
   ]
  },
  {
   "attachments": {},
   "cell_type": "markdown",
   "metadata": {},
   "source": [
    "## Data Reading"
   ]
  },
  {
   "cell_type": "code",
   "execution_count": 2,
   "metadata": {},
   "outputs": [
    {
     "data": {
      "text/html": [
       "<div>\n",
       "<style scoped>\n",
       "    .dataframe tbody tr th:only-of-type {\n",
       "        vertical-align: middle;\n",
       "    }\n",
       "\n",
       "    .dataframe tbody tr th {\n",
       "        vertical-align: top;\n",
       "    }\n",
       "\n",
       "    .dataframe thead th {\n",
       "        text-align: right;\n",
       "    }\n",
       "</style>\n",
       "<table border=\"1\" class=\"dataframe\">\n",
       "  <thead>\n",
       "    <tr style=\"text-align: right;\">\n",
       "      <th>pattern_id</th>\n",
       "      <th>1984461</th>\n",
       "      <th>1963566</th>\n",
       "      <th>1311439</th>\n",
       "      <th>5443051</th>\n",
       "      <th>1967526</th>\n",
       "      <th>1967618</th>\n",
       "      <th>1967538</th>\n",
       "      <th>1967532</th>\n",
       "      <th>1966930</th>\n",
       "      <th>1966931</th>\n",
       "      <th>...</th>\n",
       "      <th>297708</th>\n",
       "      <th>5055747</th>\n",
       "      <th>457072</th>\n",
       "      <th>710217</th>\n",
       "      <th>84367</th>\n",
       "      <th>297698</th>\n",
       "      <th>297690</th>\n",
       "      <th>2891997</th>\n",
       "      <th>311524</th>\n",
       "      <th>target</th>\n",
       "    </tr>\n",
       "  </thead>\n",
       "  <tbody>\n",
       "    <tr>\n",
       "      <th>ERR1364143</th>\n",
       "      <td>0</td>\n",
       "      <td>0</td>\n",
       "      <td>0</td>\n",
       "      <td>0</td>\n",
       "      <td>0</td>\n",
       "      <td>0</td>\n",
       "      <td>0</td>\n",
       "      <td>0</td>\n",
       "      <td>0</td>\n",
       "      <td>0</td>\n",
       "      <td>...</td>\n",
       "      <td>1</td>\n",
       "      <td>1</td>\n",
       "      <td>1</td>\n",
       "      <td>1</td>\n",
       "      <td>1</td>\n",
       "      <td>1</td>\n",
       "      <td>1</td>\n",
       "      <td>1</td>\n",
       "      <td>1</td>\n",
       "      <td>0</td>\n",
       "    </tr>\n",
       "    <tr>\n",
       "      <th>ERR1364144</th>\n",
       "      <td>0</td>\n",
       "      <td>0</td>\n",
       "      <td>0</td>\n",
       "      <td>0</td>\n",
       "      <td>0</td>\n",
       "      <td>0</td>\n",
       "      <td>0</td>\n",
       "      <td>0</td>\n",
       "      <td>0</td>\n",
       "      <td>0</td>\n",
       "      <td>...</td>\n",
       "      <td>1</td>\n",
       "      <td>1</td>\n",
       "      <td>1</td>\n",
       "      <td>1</td>\n",
       "      <td>1</td>\n",
       "      <td>1</td>\n",
       "      <td>1</td>\n",
       "      <td>1</td>\n",
       "      <td>1</td>\n",
       "      <td>0</td>\n",
       "    </tr>\n",
       "    <tr>\n",
       "      <th>ERR1364145</th>\n",
       "      <td>0</td>\n",
       "      <td>0</td>\n",
       "      <td>0</td>\n",
       "      <td>0</td>\n",
       "      <td>0</td>\n",
       "      <td>0</td>\n",
       "      <td>0</td>\n",
       "      <td>0</td>\n",
       "      <td>0</td>\n",
       "      <td>0</td>\n",
       "      <td>...</td>\n",
       "      <td>1</td>\n",
       "      <td>1</td>\n",
       "      <td>1</td>\n",
       "      <td>1</td>\n",
       "      <td>1</td>\n",
       "      <td>1</td>\n",
       "      <td>1</td>\n",
       "      <td>1</td>\n",
       "      <td>1</td>\n",
       "      <td>0</td>\n",
       "    </tr>\n",
       "    <tr>\n",
       "      <th>ERR1364146</th>\n",
       "      <td>0</td>\n",
       "      <td>0</td>\n",
       "      <td>0</td>\n",
       "      <td>0</td>\n",
       "      <td>0</td>\n",
       "      <td>0</td>\n",
       "      <td>0</td>\n",
       "      <td>0</td>\n",
       "      <td>0</td>\n",
       "      <td>0</td>\n",
       "      <td>...</td>\n",
       "      <td>1</td>\n",
       "      <td>1</td>\n",
       "      <td>1</td>\n",
       "      <td>1</td>\n",
       "      <td>1</td>\n",
       "      <td>1</td>\n",
       "      <td>1</td>\n",
       "      <td>1</td>\n",
       "      <td>1</td>\n",
       "      <td>0</td>\n",
       "    </tr>\n",
       "    <tr>\n",
       "      <th>ERR1364147</th>\n",
       "      <td>0</td>\n",
       "      <td>0</td>\n",
       "      <td>0</td>\n",
       "      <td>0</td>\n",
       "      <td>0</td>\n",
       "      <td>0</td>\n",
       "      <td>0</td>\n",
       "      <td>0</td>\n",
       "      <td>0</td>\n",
       "      <td>0</td>\n",
       "      <td>...</td>\n",
       "      <td>1</td>\n",
       "      <td>1</td>\n",
       "      <td>1</td>\n",
       "      <td>1</td>\n",
       "      <td>1</td>\n",
       "      <td>1</td>\n",
       "      <td>1</td>\n",
       "      <td>1</td>\n",
       "      <td>1</td>\n",
       "      <td>0</td>\n",
       "    </tr>\n",
       "  </tbody>\n",
       "</table>\n",
       "<p>5 rows × 160761 columns</p>\n",
       "</div>"
      ],
      "text/plain": [
       "pattern_id  1984461  1963566  1311439  5443051  1967526  1967618  1967538  \\\n",
       "ERR1364143        0        0        0        0        0        0        0   \n",
       "ERR1364144        0        0        0        0        0        0        0   \n",
       "ERR1364145        0        0        0        0        0        0        0   \n",
       "ERR1364146        0        0        0        0        0        0        0   \n",
       "ERR1364147        0        0        0        0        0        0        0   \n",
       "\n",
       "pattern_id  1967532  1966930  1966931  ...  297708  5055747  457072  710217  \\\n",
       "ERR1364143        0        0        0  ...       1        1       1       1   \n",
       "ERR1364144        0        0        0  ...       1        1       1       1   \n",
       "ERR1364145        0        0        0  ...       1        1       1       1   \n",
       "ERR1364146        0        0        0  ...       1        1       1       1   \n",
       "ERR1364147        0        0        0  ...       1        1       1       1   \n",
       "\n",
       "pattern_id  84367  297698  297690  2891997  311524  target  \n",
       "ERR1364143      1       1       1        1       1       0  \n",
       "ERR1364144      1       1       1        1       1       0  \n",
       "ERR1364145      1       1       1        1       1       0  \n",
       "ERR1364146      1       1       1        1       1       0  \n",
       "ERR1364147      1       1       1        1       1       0  \n",
       "\n",
       "[5 rows x 160761 columns]"
      ]
     },
     "execution_count": 2,
     "metadata": {},
     "output_type": "execute_result"
    }
   ],
   "source": [
    "# transpose your data such that strains are the rows and unitig as the columns\n",
    "df             = pd.read_csv('data/Sonneicounts_MAF0.05_3745_uniqpatout.txt.gz', sep = '\\t').set_index('pattern_id').T\n",
    "\n",
    "# as the two text files are already aligned, create a new column that is your target variable\n",
    "df['target']   = pd.read_csv('data/Sonneifullmar_1000B_y2_MSMcladeisolate_pheno.txt', sep = '\\t').set_index('sample')\n",
    "\n",
    "# preview head of the data\n",
    "df.head()"
   ]
  },
  {
   "attachments": {},
   "cell_type": "markdown",
   "metadata": {},
   "source": [
    "## Defining the Train and Test Datasets"
   ]
  },
  {
   "cell_type": "code",
   "execution_count": 3,
   "metadata": {},
   "outputs": [],
   "source": [
    "# define input and target output\n",
    "X              = df.values[:,:-1]\n",
    "y              = df.values[:,-1]\n",
    "\n",
    "# split the data randomly (set random_state to control randomness for reproducible results)\n",
    "X_train, X_test, y_train, y_test = train_test_split(X, y, random_state = 0, train_size = 0.75)"
   ]
  },
  {
   "attachments": {},
   "cell_type": "markdown",
   "metadata": {},
   "source": [
    "## Logistic Regression"
   ]
  },
  {
   "cell_type": "code",
   "execution_count": 4,
   "metadata": {},
   "outputs": [
    {
     "data": {
      "text/plain": [
       "(1.0, 0.9861259338313767)"
      ]
     },
     "execution_count": 4,
     "metadata": {},
     "output_type": "execute_result"
    }
   ],
   "source": [
    "# train model\n",
    "model          = LogisticRegression(random_state = 0).fit(X_train, y_train)\n",
    "\n",
    "# feature importance for a Logistic Regression model is based on the weight coefficients\n",
    "weights        = model.coef_.flatten()\n",
    "\n",
    "# train and test accuracy\n",
    "model.score(X_train, y_train), model.score(X_test, y_test)"
   ]
  },
  {
   "attachments": {},
   "cell_type": "markdown",
   "metadata": {},
   "source": [
    "#### Distribution of Coefficients"
   ]
  },
  {
   "cell_type": "code",
   "execution_count": 5,
   "metadata": {},
   "outputs": [
    {
     "data": {
      "image/png": "[encoded data removed]",
      "text/plain": [
       "<Figure size 432x288 with 1 Axes>"
      ]
     },
     "metadata": {
      "needs_background": "light"
     },
     "output_type": "display_data"
    }
   ],
   "source": [
    "plt.hist(weights, bins = 100)\n",
    "plt.yscale('log')\n",
    "plt.show()"
   ]
  },
  {
   "attachments": {},
   "cell_type": "markdown",
   "metadata": {},
   "source": [
    "We can see that a lot of unitigs are non-informative with a few that stand out at either end of the histogram.\n",
    "\n",
    "### unitig importance"
   ]
  },
  {
   "cell_type": "code",
   "execution_count": 6,
   "metadata": {},
   "outputs": [
    {
     "data": {
      "text/plain": [
       "Index([ 605746,  944349,  605706, 5133947,  605725, 1803187, 1052245,  936108,\n",
       "       5309891, 1349033],\n",
       "      dtype='object', name='pattern_id')"
      ]
     },
     "metadata": {},
     "output_type": "display_data"
    },
    {
     "data": {
      "text/plain": [
       "Index([5435744,  860133, 5278000, 5277998,  860039,  862475, 5207876,  862476,\n",
       "        558890,  558939],\n",
       "      dtype='object', name='pattern_id')"
      ]
     },
     "metadata": {},
     "output_type": "display_data"
    }
   ],
   "source": [
    "# top 10 features indicating target = 0\n",
    "display(df.columns[weights.argsort()[:10]])\n",
    "\n",
    "# top 10 features indicating target = 1\n",
    "display(df.columns[weights.argsort()[-10:]])"
   ]
  }
 ],
 "metadata": {
  "kernelspec": {
   "display_name": "Python 3",
   "language": "python",
   "name": "python3"
  },
  "language_info": {
   "codemirror_mode": {
    "name": "ipython",
    "version": 3
   },
   "file_extension": ".py",
   "mimetype": "text/x-python",
   "name": "python",
   "nbconvert_exporter": "python",
   "pygments_lexer": "ipython3",
   "version": "3.10.6"
  },
  "orig_nbformat": 4
 },
 "nbformat": 4,
 "nbformat_minor": 2
}
